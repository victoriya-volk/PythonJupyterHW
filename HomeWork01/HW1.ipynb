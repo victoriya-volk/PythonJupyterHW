{
 "cells": [
  {
   "cell_type": "markdown",
   "id": "bff943df",
   "metadata": {},
   "source": [
    "## Задача 1\n",
    "\n",
    "Оформляйте ноутбук, используя эти советы:\n",
    "\n",
    "- Номер задачи - заголовок 2\n",
    "- Номер подзадачи - заголовок 3\n",
    "- Предоставленные наборы данных оформляйте, как код"
   ]
  },
  {
   "cell_type": "markdown",
   "id": "08328d1d",
   "metadata": {},
   "source": [
    "## Задача 2\n",
    "\n",
    "На складе лежат разные фрукты в разном количестве.\n",
    "\n",
    "Нужно написать функцию, которая на вход принимает любое количество названий фруктов и их количество, а возвращает общее количество фруктов на складе"
   ]
  },
  {
   "cell_type": "code",
   "execution_count": 2,
   "id": "8b3a9d0c",
   "metadata": {},
   "outputs": [
    {
     "data": {
      "text/plain": [
       "14"
      ]
     },
     "execution_count": 2,
     "metadata": {},
     "output_type": "execute_result"
    }
   ],
   "source": [
    "def total_of_fruits( **fruits ):\n",
    "    total = 0\n",
    "    for meaning in fruits.values():\n",
    "        total += meaning\n",
    "    return total\n",
    "\n",
    "\n",
    "total_of_fruits(pinapple = 1, banana = 3, apple = 6, orange = 4)"
   ]
  },
  {
   "cell_type": "markdown",
   "id": "3dd21e04",
   "metadata": {},
   "source": [
    "## 3 задача\n",
    "\n",
    "Дан список с затратами на рекламу. Но в данных есть ошибки, некоторые затраты имеют отрицательную величину. Удалите такие значения из списка и посчитайте суммарные затраты\n",
    "```\n",
    "[100, 125, -90, 345, 655, -1, 0, 200]\n",
    "```\n",
    "\n",
    "Используйте list comprehensions"
   ]
  },
  {
   "cell_type": "code",
   "execution_count": null,
   "id": "df123b60",
   "metadata": {},
   "outputs": [],
   "source": [
    "costs = [100, 125, -90, 345, 655, -1, 0, 200]\n",
    "\n",
    "sum([i for i in adv if i > 0])"
   ]
  },
  {
   "cell_type": "markdown",
   "id": "bcb084ef",
   "metadata": {},
   "source": [
    "## 4 задача\n",
    "\n",
    "Даны два списка.\n",
    "\n",
    "Дата покупки\n",
    "```\n",
    "['2021-09-14', '2021-12-15', '2021-09-08', '2021-12-05', '2021-10-09', '2021-09-30', '2021-12-22', '2021-11-29', '2021-12-24', '2021-11-26', '2021-10-27', '2021-12-18', '2021-11-09', '2021-11-23', '2021-09-27', '2021-10-02', '2021-12-27', '2021-09-20', '2021-12-13', '2021-11-01', '2021-11-09', '2021-12-06', '2021-12-08', '2021-10-09', '2021-10-31', '2021-09-30', '2021-11-09', '2021-12-13', '2021-10-26', '2021-12-09']\n",
    "```\n",
    "\n",
    "Суммы покупок по датам\n",
    "```\n",
    "[1270, 8413, 9028, 3703, 5739, 4095, 295, 4944, 5723, 3701, 4471, 651, 7037, 4274, 6275, 4988, 6930, 2971, 6592, 2004, 2822, 519, 3406, 2732, 5015, 2008, 316, 6333, 5700, 2887]\n",
    "```"
   ]
  },
  {
   "cell_type": "markdown",
   "id": "4ee05d32",
   "metadata": {},
   "source": [
    "### 4.1 Найдите, какая выручка у компании в ноябре\n",
    "\n",
    "\n",
    "Используйте list comprehensions"
   ]
  },
  {
   "cell_type": "code",
   "execution_count": 3,
   "id": "4253d3f8",
   "metadata": {},
   "outputs": [
    {
     "data": {
      "text/plain": [
       "25098"
      ]
     },
     "execution_count": 3,
     "metadata": {},
     "output_type": "execute_result"
    }
   ],
   "source": [
    "dates = ['2021-09-14', '2021-12-15', '2021-09-08', '2021-12-05', '2021-10-09', '2021-09-30', '2021-12-22',\n",
    "         '2021-11-29', '2021-12-24', '2021-11-26', '2021-10-27', '2021-12-18', '2021-11-09', '2021-11-23',\n",
    "         '2021-09-27', '2021-10-02', '2021-12-27', '2021-09-20', '2021-12-13', '2021-11-01', '2021-11-09',\n",
    "         '2021-12-06', '2021-12-08', '2021-10-09', '2021-10-31', '2021-09-30', '2021-11-09', '2021-12-13',\n",
    "         '2021-10-26', '2021-12-09']\n",
    "profit = [1270, 8413, 9028, 3703, 5739, 4095, 295, 4944, 5723, 3701,\n",
    "          4471, 651, 7037, 4274, 6275, 4988, 6930, 2971, 6592, 2004,\n",
    "          2822, 519, 3406, 2732, 5015, 2008, 316, 6333, 5700, 2887]\n",
    "\n",
    "\n",
    "sum([profit[i] for i in range(len(dates)) if dates[i].split('-')[1] == '11'])"
   ]
  },
  {
   "cell_type": "markdown",
   "id": "0a2ba6b2",
   "metadata": {},
   "source": [
    "### 4.2 Найдите выручку компании в зависимости от месяца\n",
    "\n",
    "Для этого напишите функцию, которая на вход принимает список с датами и список с выручкой, а на выходе словарь, где ключи - это месяцы, а значения - это выручка.\n",
    "\n",
    "Используйте аннотирование типов."
   ]
  },
  {
   "cell_type": "code",
   "execution_count": 5,
   "id": "8786d1f4",
   "metadata": {},
   "outputs": [
    {
     "data": {
      "text/plain": [
       "{'09': 25647, '12': 45452, '10': 28645, '11': 25098}"
      ]
     },
     "execution_count": 5,
     "metadata": {},
     "output_type": "execute_result"
    }
   ],
   "source": [
    "def calc_profit_by_month(dates: list, profits: list) -> dict:\n",
    "    profit_by_month = {}\n",
    "    \n",
    "    for i in range(len(dates)):\n",
    "        month = dates[i].split('-')[1]\n",
    "        if month in profit_by_month.keys():\n",
    "            profit_by_month[month] += profits[i]\n",
    "        else:\n",
    "            profit_by_month[month] = profits[i]\n",
    "            \n",
    "    return profit_by_month\n",
    "\n",
    "calc_profit_by_month(dates, profit)"
   ]
  }
 ],
 "metadata": {
  "kernelspec": {
   "display_name": "Python 3 (ipykernel)",
   "language": "python",
   "name": "python3"
  },
  "language_info": {
   "codemirror_mode": {
    "name": "ipython",
    "version": 3
   },
   "file_extension": ".py",
   "mimetype": "text/x-python",
   "name": "python",
   "nbconvert_exporter": "python",
   "pygments_lexer": "ipython3",
   "version": "3.11.0"
  }
 },
 "nbformat": 4,
 "nbformat_minor": 5
}
